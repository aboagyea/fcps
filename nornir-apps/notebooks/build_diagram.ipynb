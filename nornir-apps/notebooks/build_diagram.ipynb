{
 "cells": [
  {
   "cell_type": "markdown",
   "metadata": {},
   "source": [
    "# Automate your network with Nornir – Python automation framework!"
   ]
  },
  {
   "cell_type": "markdown",
   "metadata": {},
   "source": [
    "### Building network diagram"
   ]
  },
  {
   "cell_type": "code",
   "execution_count": 2,
   "metadata": {},
   "outputs": [
    {
     "name": "stdout",
     "output_type": "stream",
     "text": [
      "{'R1': Host: R1,\n",
      " 'R10': Host: R10,\n",
      " 'R2': Host: R2,\n",
      " 'R3': Host: R3,\n",
      " 'R4': Host: R4,\n",
      " 'R5': Host: R5,\n",
      " 'R6': Host: R6,\n",
      " 'R7': Host: R7,\n",
      " 'R8': Host: R8,\n",
      " 'R9': Host: R9}\n"
     ]
    }
   ],
   "source": [
    "import os\n",
    "from pprint import pprint\n",
    "from colorama import Fore\n",
    "import time\n",
    "\n",
    "from nornir import InitNornir\n",
    "os.chdir('..')\n",
    "\n",
    "with InitNornir(config_file=\"scripts/config.yaml\") as nr:\n",
    "    \n",
    "\n"
   ]
  },
  {
   "cell_type": "code",
   "execution_count": null,
   "metadata": {},
   "outputs": [],
   "source": [
    "from nornir.plugins.functions.text import print_result\n",
    "from nornir.plugins.tasks.networking import netmiko_send_command\n",
    "\n",
    "london_devices = nr.filter(F(groups__contains=\"London\"))\n",
    "result = london_devices.run(task=netmiko_send_command, command_string=\"show ip route\")\n",
    "print_result(result)"
   ]
  },
  {
   "cell_type": "markdown",
   "metadata": {},
   "source": [
    "### Custom tasks"
   ]
  },
  {
   "cell_type": "code",
   "execution_count": null,
   "metadata": {},
   "outputs": [],
   "source": [
    "from nornir.plugins.functions.text import print_result\n",
    "from nornir.plugins.tasks.networking import netmiko_send_command\n",
    "\n",
    "def get_commands(task, commands):\n",
    "    for command in commands:\n",
    "        task.run(task=netmiko_send_command, command_string=command)\n",
    "        \n",
    "london_devices = nr.filter(F(groups__contains=\"London\"))\n",
    "result = london_devices.run(task=get_commands, commands=[\"show ip int br\", \"show arp\"])\n",
    "print_result(result)\n",
    "nr.close_connections()"
   ]
  },
  {
   "cell_type": "markdown",
   "metadata": {},
   "source": [
    "## Building network diagram with Nornir"
   ]
  },
  {
   "cell_type": "code",
   "execution_count": null,
   "metadata": {},
   "outputs": [],
   "source": [
    "%matplotlib inline\n",
    "\n",
    "from typing import List, Dict, Tuple\n",
    "import time\n",
    "\n",
    "from colorama import Fore\n",
    "from nornir import InitNornir\n",
    "import networkx as nx\n",
    "import matplotlib.pyplot as plt\n",
    "\n",
    "from topology import parse_cdp_neighbors, build_graph\n",
    "\n",
    "TOPOLOGY_FILENAME = \"topology.png\"\n",
    "\n",
    "def draw_and_save_topology(graph: nx.Graph, edge_labels: List[Dict[Tuple[str, str], str]]) -> None:\n",
    "    plt.figure(1, figsize=(12, 12))\n",
    "    pos = nx.spring_layout(graph, seed=5)\n",
    "    nx.draw_networkx(graph, pos, node_size=1300, node_color='orange')\n",
    "    nx.draw_networkx_edge_labels(graph, pos, edge_labels=edge_labels[0], label_pos=0.8)\n",
    "    nx.draw_networkx_edge_labels(graph, pos, edge_labels=edge_labels[1], label_pos=0.2)\n",
    "    plt.savefig(TOPOLOGY_FILENAME)\n",
    "    print(f\"The network topology diagram has been saved to {TOPOLOGY_FILENAME}\")\n",
    "\n",
    "start_time = time.time()\n",
    "nr = InitNornir(\"config.yaml\")\n",
    "nr.run(task=parse_cdp_neighbors)\n",
    "print(\"CDP details were successfully fetched using RESTCONF\")\n",
    "milestone = time.time()\n",
    "time_to_run = milestone - start_time\n",
    "print(f\"{Fore.RED}It took {time_to_run:.2f} seconds to get and parse CDP details{Fore.RESET}\")\n",
    "graph, edge_labels = build_graph(nr.inventory.hosts.values())\n",
    "draw_and_save_topology(graph, edge_labels)\n",
    "time_to_run = time.time() - milestone\n",
    "print(f\"{Fore.RED}It took additional {time_to_run:.2f} seconds to draw and save the network topology{Fore.RESET}\")"
   ]
  },
  {
   "cell_type": "markdown",
   "metadata": {},
   "source": [
    "## END"
   ]
  }
 ],
 "metadata": {
  "kernelspec": {
   "display_name": "Python 3",
   "language": "python",
   "name": "python3"
  },
  "language_info": {
   "codemirror_mode": {
    "name": "ipython",
    "version": 3
   },
   "file_extension": ".py",
   "mimetype": "text/x-python",
   "name": "python",
   "nbconvert_exporter": "python",
   "pygments_lexer": "ipython3",
   "version": "3.7.5"
  }
 },
 "nbformat": 4,
 "nbformat_minor": 2
}
