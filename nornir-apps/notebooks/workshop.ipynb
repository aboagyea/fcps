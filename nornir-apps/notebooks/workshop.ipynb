{
 "cells": [
  {
   "cell_type": "markdown",
   "metadata": {},
   "source": [
    "# Automate your network with Nornir – Python automation framework!"
   ]
  },
  {
   "cell_type": "markdown",
   "metadata": {},
   "source": [
    "### Exploring inventory"
   ]
  },
  {
   "cell_type": "code",
   "execution_count": null,
   "metadata": {},
   "outputs": [],
   "source": [
    "import os\n",
    "os."
   ]
  },
  {
   "cell_type": "code",
   "execution_count": null,
   "metadata": {},
   "outputs": [],
   "source": [
    "from pprint import pprint\n",
    "from colorama import Fore\n",
    "import time\n",
    "\n",
    "from nornir import InitNornir\n",
    "nr = InitNornir(config_file=\"config.yaml\")\n",
    "pprint(nr.inventory.hosts)"
   ]
  },
  {
   "cell_type": "code",
   "execution_count": null,
   "metadata": {},
   "outputs": [],
   "source": [
    "pprint(nr.inventory.groups)"
   ]
  },
  {
   "cell_type": "markdown",
   "metadata": {},
   "source": [
    "### Simple output collection with netmiko"
   ]
  },
  {
   "cell_type": "code",
   "execution_count": null,
   "metadata": {},
   "outputs": [],
   "source": [
    "from nornir.plugins.functions.text import print_result\n",
    "from nornir.plugins.tasks.networking import netmiko_send_command\n",
    "\n",
    "results = nr.run(task=netmiko_send_command, command_string=\"show ip int brief | ex una\")\n",
    "print_result(results)"
   ]
  },
  {
   "cell_type": "markdown",
   "metadata": {},
   "source": [
    "### ...or the commands parsed with TextFSM"
   ]
  },
  {
   "cell_type": "code",
   "execution_count": null,
   "metadata": {},
   "outputs": [],
   "source": [
    "results = nr.run(task=netmiko_send_command, command_string=\"show version\", use_textfsm=True)\n",
    "print_result(results)"
   ]
  },
  {
   "cell_type": "markdown",
   "metadata": {},
   "source": [
    "### Simple data retrieval using napalm"
   ]
  },
  {
   "cell_type": "code",
   "execution_count": null,
   "metadata": {},
   "outputs": [],
   "source": [
    "from nornir.plugins.tasks.networking import napalm_get\n",
    "results = nr.run(\n",
    "    task=napalm_get, getters=[\"facts\", \"interfaces\"]\n",
    ")\n",
    "print_result(results)"
   ]
  },
  {
   "cell_type": "markdown",
   "metadata": {},
   "source": [
    "### Exploring connections"
   ]
  },
  {
   "cell_type": "code",
   "execution_count": null,
   "metadata": {},
   "outputs": [],
   "source": [
    "for host in nr.inventory.hosts.values():\n",
    "    print(f\"{host.name} connections: {host.connections}\")\n",
    "    \n",
    "nr.close_connections()\n",
    "print(f\"{Fore.RED}All connections have been closed{Fore.RESET}\", end=\"\\n\\n\")\n",
    "\n",
    "for host in nr.inventory.hosts.values():\n",
    "    print(f\"{host.name} connections: {host.connections}\")"
   ]
  },
  {
   "cell_type": "markdown",
   "metadata": {},
   "source": [
    "### Data retrieval"
   ]
  },
  {
   "cell_type": "code",
   "execution_count": null,
   "metadata": {},
   "outputs": [],
   "source": [
    "r1 = nr.inventory.hosts['R1']\n",
    "print(r1.data)"
   ]
  },
  {
   "cell_type": "code",
   "execution_count": null,
   "metadata": {},
   "outputs": [],
   "source": [
    "print(r1['tags'])  # directly from data\n",
    "print(r1['ntp'])  # from group\n",
    "print(r1['snmp_community'])  # from defaults\n",
    "print(r1.get('non-existent-key', 'Placeholder'))  # this key does not exist in any group"
   ]
  },
  {
   "cell_type": "markdown",
   "metadata": {},
   "source": [
    "### Change data dynamically"
   ]
  },
  {
   "cell_type": "code",
   "execution_count": null,
   "metadata": {},
   "outputs": [],
   "source": [
    "# Settings site and locator for every host\n",
    "for host in nr.inventory.hosts.values():\n",
    "    site = host.groups[0]\n",
    "    host.data['site'] = site\n",
    "    locator = f'{host.name}.{site}'\n",
    "    host.data['locator'] = locator\n",
    "\n",
    "r1 = nr.inventory.hosts['R1']\n",
    "print(f\"{r1.name} has the following data: {r1.data}\")\n",
    "print(f\"{r1.name} site: {r1['site']}, locator: {r1['locator']}\")"
   ]
  },
  {
   "cell_type": "markdown",
   "metadata": {},
   "source": [
    "### Filtering"
   ]
  },
  {
   "cell_type": "code",
   "execution_count": null,
   "metadata": {},
   "outputs": [],
   "source": [
    "print(list(nr.filter(locator=\"R1.New York\").inventory.hosts.keys()))\n",
    "print(list(nr.filter(site=\"New York\").inventory.hosts.keys()))"
   ]
  },
  {
   "cell_type": "markdown",
   "metadata": {},
   "source": [
    "#### Advanced filtering"
   ]
  },
  {
   "cell_type": "code",
   "execution_count": null,
   "metadata": {},
   "outputs": [],
   "source": [
    "from nornir.core.filter import F\n",
    "\n",
    "print(list(nr.filter(F(locator=\"R1.New York\")).inventory.hosts.keys()))\n",
    "print(list(nr.filter(F(groups__contains=\"London\")).inventory.hosts.keys()))\n",
    "print(list(nr.filter(F(groups__contains=\"London\") & F(tags__contains=\"isr4400\")).inventory.hosts.keys()))\n",
    "print(list(nr.filter(F(groups__contains=\"London\") & F(tags__all=[\"isr4400\", \"edge\"])).inventory.hosts.keys()))\n",
    "print(list(nr.filter(F(ntp__servers__contains=\"1.2.3.4\")).inventory.hosts.keys()))"
   ]
  },
  {
   "cell_type": "markdown",
   "metadata": {},
   "source": [
    "### Combining filtering and task execution\n"
   ]
  },
  {
   "cell_type": "code",
   "execution_count": null,
   "metadata": {},
   "outputs": [],
   "source": [
    "from nornir.plugins.functions.text import print_result\n",
    "from nornir.plugins.tasks.networking import netmiko_send_command\n",
    "\n",
    "london_devices = nr.filter(F(groups__contains=\"London\"))\n",
    "result = london_devices.run(task=netmiko_send_command, command_string=\"show ip route\")\n",
    "print_result(result)"
   ]
  },
  {
   "cell_type": "markdown",
   "metadata": {},
   "source": [
    "### Custom tasks"
   ]
  },
  {
   "cell_type": "code",
   "execution_count": null,
   "metadata": {},
   "outputs": [],
   "source": [
    "from nornir.plugins.functions.text import print_result\n",
    "from nornir.plugins.tasks.networking import netmiko_send_command\n",
    "\n",
    "def get_commands(task, commands):\n",
    "    for command in commands:\n",
    "        task.run(task=netmiko_send_command, command_string=command)\n",
    "        \n",
    "london_devices = nr.filter(F(groups__contains=\"London\"))\n",
    "result = london_devices.run(task=get_commands, commands=[\"show ip int br\", \"show arp\"])\n",
    "print_result(result)\n",
    "nr.close_connections()"
   ]
  },
  {
   "cell_type": "markdown",
   "metadata": {},
   "source": [
    "## Building network diagram with Nornir"
   ]
  },
  {
   "cell_type": "code",
   "execution_count": null,
   "metadata": {},
   "outputs": [],
   "source": [
    "%matplotlib inline\n",
    "\n",
    "from typing import List, Dict, Tuple\n",
    "import time\n",
    "\n",
    "from colorama import Fore\n",
    "from nornir import InitNornir\n",
    "import networkx as nx\n",
    "import matplotlib.pyplot as plt\n",
    "\n",
    "from topology import parse_cdp_neighbors, build_graph\n",
    "\n",
    "TOPOLOGY_FILENAME = \"topology.png\"\n",
    "\n",
    "def draw_and_save_topology(graph: nx.Graph, edge_labels: List[Dict[Tuple[str, str], str]]) -> None:\n",
    "    plt.figure(1, figsize=(12, 12))\n",
    "    pos = nx.spring_layout(graph, seed=5)\n",
    "    nx.draw_networkx(graph, pos, node_size=1300, node_color='orange')\n",
    "    nx.draw_networkx_edge_labels(graph, pos, edge_labels=edge_labels[0], label_pos=0.8)\n",
    "    nx.draw_networkx_edge_labels(graph, pos, edge_labels=edge_labels[1], label_pos=0.2)\n",
    "    plt.savefig(TOPOLOGY_FILENAME)\n",
    "    print(f\"The network topology diagram has been saved to {TOPOLOGY_FILENAME}\")\n",
    "\n",
    "start_time = time.time()\n",
    "nr = InitNornir(\"config.yaml\")\n",
    "nr.run(task=parse_cdp_neighbors)\n",
    "print(\"CDP details were successfully fetched using RESTCONF\")\n",
    "milestone = time.time()\n",
    "time_to_run = milestone - start_time\n",
    "print(f\"{Fore.RED}It took {time_to_run:.2f} seconds to get and parse CDP details{Fore.RESET}\")\n",
    "graph, edge_labels = build_graph(nr.inventory.hosts.values())\n",
    "draw_and_save_topology(graph, edge_labels)\n",
    "time_to_run = time.time() - milestone\n",
    "print(f\"{Fore.RED}It took additional {time_to_run:.2f} seconds to draw and save the network topology{Fore.RESET}\")"
   ]
  },
  {
   "cell_type": "markdown",
   "metadata": {},
   "source": [
    "## END"
   ]
  }
 ],
 "metadata": {
  "kernelspec": {
   "display_name": "Python 3",
   "language": "python",
   "name": "python3"
  },
  "language_info": {
   "codemirror_mode": {
    "name": "ipython",
    "version": 3
   },
   "file_extension": ".py",
   "mimetype": "text/x-python",
   "name": "python",
   "nbconvert_exporter": "python",
   "pygments_lexer": "ipython3",
   "version": "3.6.8"
  }
 },
 "nbformat": 4,
 "nbformat_minor": 2
}